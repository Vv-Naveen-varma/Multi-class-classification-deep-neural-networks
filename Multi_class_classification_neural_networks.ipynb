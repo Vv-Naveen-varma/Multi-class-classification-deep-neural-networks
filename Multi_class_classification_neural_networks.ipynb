{
 "cells": [
  {
   "cell_type": "markdown",
   "metadata": {},
   "source": [
    "# Multi-class Classification using Deep Neural Networks\n",
    "\n",
    "We will be using the same steps that we discussed in Binary Classification, its best to visit Binary classification concepts first before proceeding to multi-class. You can check it out at medium"
   ]
  },
  {
   "cell_type": "code",
   "execution_count": 1,
   "metadata": {},
   "outputs": [],
   "source": [
    "# Note: Before running the code make sure TensorFlow and Keras are installed.\n",
    "# If not installed use the 2 commands below,\n",
    "# !pip install tensorflow\n",
    "# !pip install keras\n",
    "# import required libraries\n",
    "\n",
    "import numpy as np\n",
    "import tensorflow.keras\n",
    "from sklearn import datasets\n",
    "import matplotlib.pyplot as plt\n",
    "from tensorflow.keras.models import Sequential\n",
    "from tensorflow.keras.layers import Dense\n",
    "from tensorflow.keras.optimizers import Adam\n",
    "from tensorflow.keras.utils import to_categorical"
   ]
  },
  {
   "cell_type": "code",
   "execution_count": 2,
   "metadata": {},
   "outputs": [],
   "source": [
    "n_pts = 500\n",
    "centers = [[-1, 1], [-1, -1], [1, -1]] # Centers for the data classes created\n",
    "X, y = datasets.make_blobs(n_samples=n_pts, random_state = 123, centers=centers, cluster_std=0.4)\n",
    "# print(X)\n",
    "# print(y)\n",
    "# From the below output we can see that labels are 0, 1 and 2."
   ]
  },
  {
   "cell_type": "code",
   "execution_count": 3,
   "metadata": {
    "scrolled": false
   },
   "outputs": [
    {
     "name": "stdout",
     "output_type": "stream",
     "text": [
      "3 Clusters with labels 0,1 and 2\n"
     ]
    },
    {
     "data": {
      "text/plain": [
       "<matplotlib.collections.PathCollection at 0x28cf1f59dc0>"
      ]
     },
     "execution_count": 3,
     "metadata": {},
     "output_type": "execute_result"
    },
    {
     "data": {
      "image/png": "[encoded data removed]",
      "text/plain": [
       "<Figure size 432x288 with 1 Axes>"
      ]
     },
     "metadata": {
      "needs_background": "light"
     },
     "output_type": "display_data"
    }
   ],
   "source": [
    "# Now let's Plot and visualize clusters of labels 0, 1 and 2\n",
    "# plt.scatter(X[y==0, 0], X[y==0, 1]) let's begin with the dataset labeled 0 then 1 then 2\n",
    "# We must first access our dataset and then we'll do a boolean check, i.e , grab me all x coordinates which correspond to labels of 0 where that corresponding label is equal to 0 (y==0). All the X-coordinates are in the first index of the array(so we use 0th index). we'll do the same exact thing for the corresponding y coordinates.\n",
    "\n",
    "print(\"3 Clusters with labels 0,1 and 2\")\n",
    "plt.scatter(X[y==0, 0], X[y==0, 1]) # label 0\n",
    "plt.scatter(X[y==1, 0], X[y==1, 1]) # label 1\n",
    "plt.scatter(X[y==2, 0], X[y==2, 1]) # label 2"
   ]
  },
  {
   "cell_type": "code",
   "execution_count": 4,
   "metadata": {},
   "outputs": [
    {
     "name": "stdout",
     "output_type": "stream",
     "text": [
      "Before hot encoding:\n",
      "[2 2 2 0 1 0 0 2 2 2 1 1 0 0 1 2 2 2 2 0 2 0 1 2 1 2 0 0 2 1 1 0 0 2 1 0 2\n",
      " 0 2 0 0 2 1 0 2 0 1 2 0 2 0 1 1 0 1 2 2 0 1 2 0 2 0 2 1 0 1 1 1 1 2 1 1 1\n",
      " 1 1 2 1 1 2 0 1 2 2 1 0 2 1 1 2 0 0 2 1 2 2 0 1 2 0 2 1 1 2 2 0 0 1 2 1 1\n",
      " 2 0 0 1 0 2 2 2 2 1 2 1 2 0 2 2 0 1 0 0 0 0 2 0 1 0 2 2 0 2 2 2 2 1 2 0 0\n",
      " 0 2 1 0 2 0 0 1 1 0 2 0 0 1 1 2 2 0 2 1 2 2 2 1 1 1 2 0 0 1 0 1 2 2 1 1 2\n",
      " 1 1 0 0 2 2 1 0 0 0 0 2 2 0 2 1 1 2 0 0 2 2 0 1 0 2 0 2 2 0 0 2 1 2 0 2 0\n",
      " 1 1 2 0 0 0 2 1 2 2 2 0 0 1 0 2 0 2 0 2 1 1 1 2 2 1 1 1 0 1 2 1 0 1 2 2 0\n",
      " 0 0 1 1 1 2 1 1 2 1 1 2 0 0 0 2 0 2 0 0 0 2 1 1 0 2 1 0 0 1 1 1 1 2 1 1 0\n",
      " 0 0 2 1 1 1 0 0 0 0 0 0 0 1 2 1 2 1 0 2 0 0 1 2 0 1 2 2 2 2 2 0 1 2 0 2 1\n",
      " 0 0 1 2 0 2 0 1 1 0 2 1 0 1 1 1 0 2 0 2 0 1 1 0 1 1 1 2 2 0 2 0 2 2 1 1 0\n",
      " 2 2 2 1 1 1 2 2 0 1 2 1 2 0 1 2 2 2 0 1 1 1 2 0 2 0 0 2 1 1 1 2 0 1 0 0 1\n",
      " 1 2 0 0 1 2 1 1 0 2 0 1 0 2 0 0 0 1 1 1 2 0 1 1 0 2 1 2 1 1 1 1 0 0 0 0 0\n",
      " 2 2 1 1 0 1 0 2 2 2 2 0 0 1 1 0 0 1 1 1 2 2 1 1 1 1 0 0 2 0 1 0 1 0 1 1 2\n",
      " 2 0 2 2 1 0 1 2 0 2 0 2 1 0 2 0 1 1 0]\n",
      "After hot encoding\n",
      "[[0. 0. 1.]\n",
      " [0. 0. 1.]\n",
      " [0. 0. 1.]\n",
      " ...\n",
      " [0. 1. 0.]\n",
      " [0. 1. 0.]\n",
      " [1. 0. 0.]]\n"
     ]
    }
   ],
   "source": [
    "# Our labeled data needs to go through \"Hot encoding process\".\n",
    "# This process eliminates unnecessary dependencies within our data labels and ensures that our neural network does not create unjustified relationships between our data labels.\n",
    "# Lets have a look at how to do this?\n",
    "# We use a to_categoricall function which hot encodes a given input. 2nd argument is a integer value that represents the No.of data classes in our dataset.\n",
    "\n",
    "print(\"Before hot encoding:\")\n",
    "print(y)\n",
    "y_cat = to_categorical(y, 3)\n",
    "print(\"After hot encoding\")\n",
    "print(y_cat)"
   ]
  },
  {
   "cell_type": "code",
   "execution_count": 5,
   "metadata": {},
   "outputs": [],
   "source": [
    "# define neural network and its structure using softmax activation function\n",
    "# optimizer = adeam with learning rate 0.1. \n",
    "\n",
    "model = Sequential()\n",
    "model.add(Dense(units=3, input_shape=(2,), activation=\"softmax\"))\n",
    "model.compile(Adam(0.1), loss=\"categorical_crossentropy\", metrics=['accuracy'])"
   ]
  },
  {
   "cell_type": "code",
   "execution_count": 6,
   "metadata": {},
   "outputs": [
    {
     "name": "stdout",
     "output_type": "stream",
     "text": [
      "Epoch 1/50\n",
      "10/10 [==============================] - 1s 2ms/step - loss: 0.6657 - accuracy: 0.8380\n",
      "Epoch 2/50\n",
      "10/10 [==============================] - 0s 2ms/step - loss: 0.2019 - accuracy: 0.9900\n",
      "Epoch 3/50\n",
      "10/10 [==============================] - 0s 3ms/step - loss: 0.1096 - accuracy: 0.9880\n",
      "Epoch 4/50\n",
      "10/10 [==============================] - 0s 3ms/step - loss: 0.0815 - accuracy: 0.9880\n",
      "Epoch 5/50\n",
      "10/10 [==============================] - 0s 2ms/step - loss: 0.0685 - accuracy: 0.9900\n",
      "Epoch 6/50\n",
      "10/10 [==============================] - 0s 2ms/step - loss: 0.0618 - accuracy: 0.9900\n",
      "Epoch 7/50\n",
      "10/10 [==============================] - 0s 3ms/step - loss: 0.0569 - accuracy: 0.9900\n",
      "Epoch 8/50\n",
      "10/10 [==============================] - 0s 2ms/step - loss: 0.0538 - accuracy: 0.9880\n",
      "Epoch 9/50\n",
      "10/10 [==============================] - 0s 2ms/step - loss: 0.0511 - accuracy: 0.9880\n",
      "Epoch 10/50\n",
      "10/10 [==============================] - 0s 3ms/step - loss: 0.0489 - accuracy: 0.9900\n",
      "Epoch 11/50\n",
      "10/10 [==============================] - 0s 2ms/step - loss: 0.0468 - accuracy: 0.9900\n",
      "Epoch 12/50\n",
      "10/10 [==============================] - 0s 2ms/step - loss: 0.0454 - accuracy: 0.9880\n",
      "Epoch 13/50\n",
      "10/10 [==============================] - 0s 3ms/step - loss: 0.0441 - accuracy: 0.9880\n",
      "Epoch 14/50\n",
      "10/10 [==============================] - 0s 3ms/step - loss: 0.0428 - accuracy: 0.9900\n",
      "Epoch 15/50\n",
      "10/10 [==============================] - 0s 3ms/step - loss: 0.0417 - accuracy: 0.9880\n",
      "Epoch 16/50\n",
      "10/10 [==============================] - 0s 3ms/step - loss: 0.0404 - accuracy: 0.9900\n",
      "Epoch 17/50\n",
      "10/10 [==============================] - 0s 2ms/step - loss: 0.0395 - accuracy: 0.9900\n",
      "Epoch 18/50\n",
      "10/10 [==============================] - 0s 3ms/step - loss: 0.0387 - accuracy: 0.9900\n",
      "Epoch 19/50\n",
      "10/10 [==============================] - 0s 2ms/step - loss: 0.0380 - accuracy: 0.9900\n",
      "Epoch 20/50\n",
      "10/10 [==============================] - 0s 3ms/step - loss: 0.0371 - accuracy: 0.9900\n",
      "Epoch 21/50\n",
      "10/10 [==============================] - 0s 3ms/step - loss: 0.0364 - accuracy: 0.9900\n",
      "Epoch 22/50\n",
      "10/10 [==============================] - 0s 3ms/step - loss: 0.0365 - accuracy: 0.9900\n",
      "Epoch 23/50\n",
      "10/10 [==============================] - 0s 3ms/step - loss: 0.0352 - accuracy: 0.9900\n",
      "Epoch 24/50\n",
      "10/10 [==============================] - 0s 3ms/step - loss: 0.0348 - accuracy: 0.9900\n",
      "Epoch 25/50\n",
      "10/10 [==============================] - 0s 3ms/step - loss: 0.0343 - accuracy: 0.9900\n",
      "Epoch 26/50\n",
      "10/10 [==============================] - 0s 3ms/step - loss: 0.0341 - accuracy: 0.9900\n",
      "Epoch 27/50\n",
      "10/10 [==============================] - 0s 2ms/step - loss: 0.0341 - accuracy: 0.9900\n",
      "Epoch 28/50\n",
      "10/10 [==============================] - 0s 2ms/step - loss: 0.0329 - accuracy: 0.9900\n",
      "Epoch 29/50\n",
      "10/10 [==============================] - 0s 3ms/step - loss: 0.0330 - accuracy: 0.9880\n",
      "Epoch 30/50\n",
      "10/10 [==============================] - 0s 3ms/step - loss: 0.0323 - accuracy: 0.9900\n",
      "Epoch 31/50\n",
      "10/10 [==============================] - 0s 3ms/step - loss: 0.0322 - accuracy: 0.9900\n",
      "Epoch 32/50\n",
      "10/10 [==============================] - 0s 3ms/step - loss: 0.0320 - accuracy: 0.9900\n",
      "Epoch 33/50\n",
      "10/10 [==============================] - 0s 3ms/step - loss: 0.0319 - accuracy: 0.9900\n",
      "Epoch 34/50\n",
      "10/10 [==============================] - 0s 3ms/step - loss: 0.0312 - accuracy: 0.9900\n",
      "Epoch 35/50\n",
      "10/10 [==============================] - 0s 2ms/step - loss: 0.0313 - accuracy: 0.9900\n",
      "Epoch 36/50\n",
      "10/10 [==============================] - 0s 2ms/step - loss: 0.0311 - accuracy: 0.9900\n",
      "Epoch 37/50\n",
      "10/10 [==============================] - 0s 3ms/step - loss: 0.0304 - accuracy: 0.9900\n",
      "Epoch 38/50\n",
      "10/10 [==============================] - 0s 2ms/step - loss: 0.0311 - accuracy: 0.9900\n",
      "Epoch 39/50\n",
      "10/10 [==============================] - 0s 3ms/step - loss: 0.0315 - accuracy: 0.9900\n",
      "Epoch 40/50\n",
      "10/10 [==============================] - 0s 3ms/step - loss: 0.0300 - accuracy: 0.9900\n",
      "Epoch 41/50\n",
      "10/10 [==============================] - 0s 2ms/step - loss: 0.0308 - accuracy: 0.9900\n",
      "Epoch 42/50\n",
      "10/10 [==============================] - 0s 2ms/step - loss: 0.0296 - accuracy: 0.9900\n",
      "Epoch 43/50\n",
      "10/10 [==============================] - 0s 2ms/step - loss: 0.0298 - accuracy: 0.9900\n",
      "Epoch 44/50\n",
      "10/10 [==============================] - 0s 3ms/step - loss: 0.0297 - accuracy: 0.9880\n",
      "Epoch 45/50\n",
      "10/10 [==============================] - 0s 2ms/step - loss: 0.0298 - accuracy: 0.9900\n",
      "Epoch 46/50\n",
      "10/10 [==============================] - 0s 3ms/step - loss: 0.0296 - accuracy: 0.9900\n",
      "Epoch 47/50\n",
      "10/10 [==============================] - 0s 2ms/step - loss: 0.0286 - accuracy: 0.9900\n",
      "Epoch 48/50\n",
      "10/10 [==============================] - 0s 2ms/step - loss: 0.0292 - accuracy: 0.9900\n",
      "Epoch 49/50\n",
      "10/10 [==============================] - 0s 2ms/step - loss: 0.0283 - accuracy: 0.9900\n",
      "Epoch 50/50\n",
      "10/10 [==============================] - 0s 2ms/step - loss: 0.0285 - accuracy: 0.9900\n"
     ]
    },
    {
     "data": {
      "text/plain": [
       "<tensorflow.python.keras.callbacks.History at 0x28cf3d23790>"
      ]
     },
     "execution_count": 6,
     "metadata": {},
     "output_type": "execute_result"
    }
   ],
   "source": [
    "# Train the data with data as x and labels which are hot encoded,i.e, y_cat\n",
    "# verbose displays the performace.\n",
    "# Remember that very less epochs can lead to underfitting and excess epochs can lead to overfitting.\n",
    "\n",
    "model.fit(x=X, y=y_cat, verbose=1, batch_size= 50, epochs=50)"
   ]
  },
  {
   "cell_type": "code",
   "execution_count": 7,
   "metadata": {},
   "outputs": [],
   "source": [
    "def plot_multiclass_decision_boundary(X, y, model):\n",
    "    x_span = np.linspace(min(X[:,0]) - 1, max(X[:,0]) + 1)\n",
    "    y_span = np.linspace(min(X[:,1]) - 1, max(X[:,1]) + 1)\n",
    "    xx, yy = np.meshgrid(x_span, y_span)\n",
    "    grid = np.c_[xx.ravel(), yy.ravel()]\n",
    "    pred_func = np.argmax(model.predict(grid), axis=1)    # model.predict_classes(point) is deprecated\n",
    "    z = pred_func.reshape(xx.shape)\n",
    "    plt.contourf(xx, yy, z)"
   ]
  },
  {
   "cell_type": "code",
   "execution_count": 8,
   "metadata": {},
   "outputs": [
    {
     "data": {
      "text/plain": [
       "<matplotlib.collections.PathCollection at 0x28cf5081a90>"
      ]
     },
     "execution_count": 8,
     "metadata": {},
     "output_type": "execute_result"
    },
    {
     "data": {
      "image/png": "[encoded data removed]",
      "text/plain": [
       "<Figure size 432x288 with 1 Axes>"
      ]
     },
     "metadata": {
      "needs_background": "light"
     },
     "output_type": "display_data"
    }
   ],
   "source": [
    "plot_multiclass_decision_boundary(X, y_cat, model)\n",
    "plt.scatter(X[y==0, 0], X[y==0, 1])\n",
    "plt.scatter(X[y==1, 0], X[y==1, 1])\n",
    "plt.scatter(X[y==2, 0], X[y==2, 1])"
   ]
  },
  {
   "cell_type": "code",
   "execution_count": 9,
   "metadata": {},
   "outputs": [
    {
     "name": "stdout",
     "output_type": "stream",
     "text": [
      "Prediction label is:  [1]\n"
     ]
    },
    {
     "data": {
      "image/png": "[encoded data removed]",
      "text/plain": [
       "<Figure size 432x288 with 1 Axes>"
      ]
     },
     "metadata": {
      "needs_background": "light"
     },
     "output_type": "display_data"
    }
   ],
   "source": [
    "plot_multiclass_decision_boundary(X, y_cat, model)\n",
    "plt.scatter(X[y==0, 0], X[y==0, 1])\n",
    "plt.scatter(X[y==1, 0], X[y==1, 1])\n",
    "plt.scatter(X[y==2, 0], X[y==2, 1])\n",
    "\n",
    "x = -0.5\n",
    "y = -0.5\n",
    "\n",
    "point = np.array([[x, y]])\n",
    "prediction = np.argmax(model.predict(point), axis=1)   # model.predict_classes(point) is deprecated\n",
    "plt.plot([x], [y], marker='o', markersize=10, color=\"yellow\")\n",
    "print(\"Prediction label is: \", prediction)\n",
    "# If the input point is in the violet zone it give output as class 0\n",
    "# If the input point is in the green zone it give output as class  1\n",
    "# If the input point is in the yellow zone it give output as class 2"
   ]
  },
  {
   "cell_type": "markdown",
   "metadata": {},
   "source": [
    "# Its Challenge time\n",
    "> Try Classifying 5 classes for better understanding. Use the same concepts as above and train a model that classifies a point in 5 classes. All the best\n",
    "\n",
    "If you have any doubts regarding this challenge refer the challenge code below. Its just for reference don't just copy it :)"
   ]
  },
  {
   "cell_type": "code",
   "execution_count": 10,
   "metadata": {},
   "outputs": [],
   "source": [
    "# After importing the libraries\n",
    "\n",
    "# n_pts = 500\n",
    "# centers = [[-1, 1], [-1, -1], [1, -1], [1, 1], [0, 0]]\n",
    "# X, y = datasets.make_blobs(n_samples=n_pts, random_state = 123, centers=centers, cluster_std=0.4)\n",
    "\n",
    "# plt.scatter(X[y==0, 0], X[y==0, 1])\n",
    "# plt.scatter(X[y==1, 0], X[y==1, 1])\n",
    "# plt.scatter(X[y==2, 0], X[y==2, 1])\n",
    "# plt.scatter(X[y==3, 0], X[y==3, 1])\n",
    "# plt.scatter(X[y==4, 0], X[y==4, 1])\n",
    "\n",
    "# print(y)\n",
    "# y_cat = to_categorical(y, 5)\n",
    "# print(y_cat)\n",
    "# model = Sequential()\n",
    "# model.add(Dense(5, input_shape=(2,), activation='softmax'))\n",
    "# model.compile(Adam(lr=0.1), 'categorical_crossentropy', metrics=['accuracy'])\n",
    "\n",
    "# history = model.fit(X, y_cat, verbose=1, batch_size = 50, epochs=100)\n",
    "# def plot_multiclass_decision_boundary(X, y, model):\n",
    "#     x_span = np.linspace(min(X[:,0]) - 1, max(X[:,0]) + 1)\n",
    "#     y_span = np.linspace(min(X[:,1]) - 1, max(X[:,1]) + 1)\n",
    "#     xx, yy = np.meshgrid(x_span, y_span)\n",
    "#     grid = np.c_[xx.ravel(), yy.ravel()]\n",
    "#     pred_func = model.predict_classes(grid)\n",
    "#     z = pred_func.reshape(xx.shape)\n",
    "#     plt.contourf(xx, yy, z)\n",
    "# plot_multiclass_decision_boundary(X, y_cat, model)\n",
    "# plt.scatter(X[y==0, 0], X[y==0, 1])\n",
    "# plt.scatter(X[y==1, 0], X[y==1, 1])\n",
    "# plt.scatter(X[y==2, 0], X[y==2, 1])\n",
    "# plt.scatter(X[y==3, 0], X[y==3, 1])\n",
    "# plt.scatter(X[y==4, 0], X[y==4, 1])\n",
    "# plot_multiclass_decision_boundary(X, y_cat, model)\n",
    "# plt.scatter(X[y==0, 0], X[y==0, 1])\n",
    "# plt.scatter(X[y==1, 0], X[y==1, 1])\n",
    "# plt.scatter(X[y==2, 0], X[y==2, 1])\n",
    "# plt.scatter(X[y==3, 0], X[y==3, 1])\n",
    "# plt.scatter(X[y==4, 0], X[y==4, 1])\n",
    "\n",
    "# x = -0.5\n",
    "# y = -0.5\n",
    "\n",
    "# point = np.array([[x, y]])\n",
    "# prediction = model.predict_classes(point)\n",
    "# plt.plot([x], [y], marker='o', markersize=10, color=\"yellow\")\n",
    "# print(\"Prediction is: \", prediction)"
   ]
  },
  {
   "cell_type": "code",
   "execution_count": null,
   "metadata": {},
   "outputs": [],
   "source": []
  }
 ],
 "metadata": {
  "kernelspec": {
   "display_name": "Python 3",
   "language": "python",
   "name": "python3"
  },
  "language_info": {
   "codemirror_mode": {
    "name": "ipython",
    "version": 3
   },
   "file_extension": ".py",
   "mimetype": "text/x-python",
   "name": "python",
   "nbconvert_exporter": "python",
   "pygments_lexer": "ipython3",
   "version": "3.8.3"
  }
 },
 "nbformat": 4,
 "nbformat_minor": 4
}
